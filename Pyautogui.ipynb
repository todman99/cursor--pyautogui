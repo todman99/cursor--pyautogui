{
 "cells": [
  {
   "cell_type": "code",
   "execution_count": 1,
   "id": "7fc41f91",
   "metadata": {},
   "outputs": [],
   "source": [
    "#Import the relevant modules\n",
    "import pyautogui"
   ]
  },
  {
   "cell_type": "code",
   "execution_count": 27,
   "id": "773b3902",
   "metadata": {},
   "outputs": [],
   "source": [
    "import time"
   ]
  },
  {
   "cell_type": "code",
   "execution_count": 21,
   "id": "5f033fff",
   "metadata": {},
   "outputs": [],
   "source": [
    "#Give the python file some time before continuing"
   ]
  },
  {
   "cell_type": "code",
   "execution_count": 36,
   "id": "b4b544e0",
   "metadata": {},
   "outputs": [
    {
     "name": "stdout",
     "output_type": "stream",
     "text": [
      "Size(width=1366, height=768)\n"
     ]
    }
   ],
   "source": [
    "#Mouse Functions\n",
    "#Prints the resolution of your screen\n",
    "print(pyautogui.size())"
   ]
  },
  {
   "cell_type": "code",
   "execution_count": 39,
   "id": "99ae8f75",
   "metadata": {},
   "outputs": [
    {
     "name": "stdout",
     "output_type": "stream",
     "text": [
      "Point(x=868, y=501)\n"
     ]
    }
   ],
   "source": [
    "#Prints the current position of the mouse on the screen\n",
    "print(pyautogui.position())"
   ]
  },
  {
   "cell_type": "code",
   "execution_count": 40,
   "id": "5ce08fc0",
   "metadata": {},
   "outputs": [],
   "source": [
    "#Moves the mouse over time (3 seconds)\n",
    "pyautogui.moveTo(100,100,3)\n"
   ]
  },
  {
   "cell_type": "code",
   "execution_count": 32,
   "id": "9d0b9fc8",
   "metadata": {},
   "outputs": [],
   "source": [
    "#Moves the mouse relative to its current position\n",
    "pyautogui.moveRel(100,100,3)"
   ]
  },
  {
   "cell_type": "code",
   "execution_count": 17,
   "id": "0d3d93c6",
   "metadata": {},
   "outputs": [],
   "source": [
    "#Click\n",
    "pyautogui.click(500,500,3,3,button=\"left\")\n",
    "pyautogui.tripleClick()\n",
    "pyautogui.doubleClick()\n",
    "pyautogui.rightClick()"
   ]
  },
  {
   "cell_type": "code",
   "execution_count": 28,
   "id": "3596fb47",
   "metadata": {},
   "outputs": [],
   "source": [
    "#Scrolls up 500\n",
    "pyautogui.scroll(500)\n",
    "#Scrolls down 500\n",
    "pyautogui.scroll(-500)"
   ]
  },
  {
   "cell_type": "code",
   "execution_count": 29,
   "id": "ebf38d8e",
   "metadata": {},
   "outputs": [],
   "source": [
    "# Mouse up and down\n",
    "pyautogui.mouseUp(100,100,button=\"left\")"
   ]
  },
  {
   "cell_type": "code",
   "execution_count": 31,
   "id": "35d06bcc",
   "metadata": {},
   "outputs": [],
   "source": [
    "#Example of Mouse Up and Down\n",
    "pyautogui.mouseDown(500,400,button=\"left\")\n",
    "pyautogui.mouseDown(800,400,button=\"left\")"
   ]
  },
  {
   "cell_type": "code",
   "execution_count": 42,
   "id": "050c1fb6",
   "metadata": {},
   "outputs": [],
   "source": [
    "import numpy as np"
   ]
  },
  {
   "cell_type": "code",
   "execution_count": 43,
   "id": "d9e66919",
   "metadata": {},
   "outputs": [],
   "source": [
    "import matplotlib.pyplot as plt"
   ]
  },
  {
   "cell_type": "code",
   "execution_count": 59,
   "id": "33151e0b",
   "metadata": {},
   "outputs": [
    {
     "ename": "IndentationError",
     "evalue": "expected an indented block (<ipython-input-59-872cce3a18dd>, line 23)",
     "output_type": "error",
     "traceback": [
      "\u001b[1;36m  File \u001b[1;32m\"<ipython-input-59-872cce3a18dd>\"\u001b[1;36m, line \u001b[1;32m23\u001b[0m\n\u001b[1;33m    (X, P) = kf_predict(X, P, A, Q,B,U)\u001b[0m\n\u001b[1;37m    ^\u001b[0m\n\u001b[1;31mIndentationError\u001b[0m\u001b[1;31m:\u001b[0m expected an indented block\n"
     ]
    }
   ],
   "source": [
    "# Kalman filter does 2 things Predicts & then corrects from Sensor Data\n",
    "# Most interesting field of application of Kalman filter is tracking of a mobile user connected to a wireless network\n",
    "# Present a simple tracking algorithm of a person moving in a room connected to at least 3 wireless antennas \n",
    "# time step of mobile movement \n",
    "dt=0.1\n",
    "#Initialization of state matrices\n",
    "X=array([[0.0],[0.0],[0.1],[0.1]])\n",
    "P=diag((0.01,0.01,0.01,0.01))\n",
    "A=array([[1,0,dt,0],[0,1,0,dt],[0,0,1,0],[0,0,0,\\\n",
    "1]])\n",
    "Q=eye(X.shape()[0])\n",
    "B=eye(X.shape()[0])\n",
    "U=zeeros((X.shape()[0],1))\n",
    "#Measurment matrices\n",
    "Y=array([[X[0,0]+abs(randn(1)[0])],[X[1,0]+\\\n",
    "abs(randn(1)[0])]])\n",
    "H=array([[1,0,0,0],[0,1,0,0]])\n",
    "R=eye(Y.shape()[0])\n",
    "#Number of iterations in Kalman Filter\n",
    "N_iter=50\n",
    "#Applying the Kalman Filter\n",
    "for i in arange(0,N_iter):\n",
    "(X, P) = kf_predict(X, P, A, Q,B,U)\n",
    "(X,P,K,IM,IS,LH)=kf_update(X,P,Y,H,R)\n",
    "Y=array([[X[0,0]+abs(0.1*randn(1)[0])],[X[1,0]+\\\n",
    "abs(0.1*randn(1)[0])]])"
   ]
  },
  {
   "cell_type": "code",
   "execution_count": null,
   "id": "f83ed1b9",
   "metadata": {},
   "outputs": [],
   "source": []
  }
 ],
 "metadata": {
  "kernelspec": {
   "display_name": "Python 3",
   "language": "python",
   "name": "python3"
  },
  "language_info": {
   "codemirror_mode": {
    "name": "ipython",
    "version": 3
   },
   "file_extension": ".py",
   "mimetype": "text/x-python",
   "name": "python",
   "nbconvert_exporter": "python",
   "pygments_lexer": "ipython3",
   "version": "3.8.8"
  }
 },
 "nbformat": 4,
 "nbformat_minor": 5
}
